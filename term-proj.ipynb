{
 "cells": [
  {
   "cell_type": "markdown",
   "metadata": {},
   "source": [
    "# Term Project - 1D Unsteady Flow: St Venant Equations"
   ]
  },
  {
   "cell_type": "markdown",
   "metadata": {},
   "source": [
    "### St Venant Equations\n",
    "\n",
    "\n",
    "St Venant equations are based on continuity, and momentum\n",
    "\n",
    "(Continuity (Eq. 1))\n",
    "$$\\frac{\\partial A}{\\partial t} + \\frac{\\partial Q}{\\partial x} = 0 $$\n",
    "\n",
    "(Momentum (Eq. 2))\n",
    "$$\\frac{\\partial U}{\\partial t} + U\\frac{\\partial U}{\\partial x} + g\\frac{\\partial y}{\\partial x} - g(I_b - I_f) = 0 $$\n",
    "\n",
    "where\n",
    "\n",
    "-   $A$ is the cross-sectional area\n",
    "\n",
    "-   $Q$ is the discharge\n",
    "\n",
    "-   $U$ is the velocity\n",
    "\n",
    "-   $g$ is the acceleration due to gravity,\n",
    "\n",
    "-   $I_b$ is the bed slope\n",
    "\n",
    "-   $I_f$ is the friction slope\n",
    "\n",
    "$I_f$ can be determined from the Manning's formula:\n",
    "\n",
    "$$ U = M R_h^\\frac{2}{3} \\sqrt{I_f}  $$\n",
    "\n",
    "where\n",
    "\n",
    "-   $M$ is a Manning's roughness coefficient ($\\frac{1}{n}$)\n",
    "\n",
    "-   $R_h$ is the hydraulic radius ($\\frac{Area}{Wetted Perimeter}$)"
   ]
  },
  {
   "cell_type": "markdown",
   "metadata": {},
   "source": [
    "## Continuity Discretization:\n",
    "\n",
    "For a rectangular channel, can break continuity equation out to the following (Eq. 3), and then cancel B:\n",
    "\n",
    "$$ B\\frac{\\partial y}{\\partial t} + B(U\\frac{\\partial y}{\\partial x} + y\\frac{\\partial U} {\\partial x})= 0 $$\n",
    "\n",
    "#### Discretization:\n",
    "\n",
    "$$ \\frac{\\partial U}{\\partial x} = \\frac{U_{i+1, j-1} - U_{i-1, j-1}}{2\\Delta x} $$\n",
    "\n",
    "$$ \\frac{\\partial y}{\\partial x} = \\frac{y_{i+1, j-1} - y_{i-1, j-1}}{2\\Delta x} $$\n",
    "\n",
    "$$ \\frac{\\partial y}{\\partial t} = \\frac{y_{i, j} - y_{i, j-1}}{\\Delta t} $$\n",
    "\n",
    "#### Substitution back into Eq. 3:\n",
    "\n",
    "$$ \\frac{y_{i, j} - y_{i, j-1}}{\\Delta t} + U_{i, j-1}\\frac{y_{i+1, j-1} - y_{i-1, j-1}}{2\\Delta x} + y_{i, j-1}\\frac{U_{i+1, j-1} - U_{i-1, j-1}}{2\\Delta x} = 0 $$\n",
    "\n",
    "#### Rearrange to get equation for depth at current time step:\n",
    "\n",
    "$$ y_{i, j} = y_{i, j-1} - \\frac{\\Delta t}{2\\Delta x}[U_{i, j-1}(y_{i+1, j-1} - y_{i-1, j-1}) + y_{i, j-1}(U_{i+1, j-1} - U_{i, j-1})] $$\n"
   ]
  },
  {
   "cell_type": "markdown",
   "metadata": {},
   "source": [
    "## Momentum Discretization:\n",
    "\n",
    "#### Discretization:\n",
    "\n",
    "$$ \\frac{\\partial U}{\\partial t} = \\frac{U_{i, j} - U_{i, j-1}}{\\Delta t} $$\n",
    "\n",
    "$$ \\frac{\\partial U}{\\partial x} = \\frac{U_{i+1, j-1} - U_{i-1, j-1}}{2\\Delta x} $$\n",
    "\n",
    "$$ \\frac{\\partial y}{\\partial x} = \\frac{y_{i+1, j-1} - y_{i-1, j-1}}{2\\Delta x} $$\n",
    "\n",
    "\n",
    "\n",
    "#### Substitution back into Eq. 2:\n",
    "\n",
    "$$ \\frac{U_{i, j} - U_{i, j-1}}{\\Delta t} + U_{i, j-1}(\\frac{U_{i+1, j-1} - U_{i-1, j-1}}{2\\Delta x}) + g(\\frac{y_{i+1, j-1} - y_{i-1, j-1}}{2\\Delta x}) = g(I_b - I_f) $$\n",
    "\n",
    "\n",
    "\n",
    "#### Rearrange to get equation for velocity at current time step:\n",
    "\n",
    "$$ U_{i, j} = U_{i, j-1} - U_{i, j-1}(\\frac{U_{i+1, j-1} - U_{i-1, j-1}}{2\\Delta x})\\Delta t + g(\\frac{y_{i+1, j-1} - y_{i-1, j-1}}{2\\Delta x})\\Delta t + g\\Delta t(I_b - I_f) $$\n",
    "\n",
    "#### Friction Slope Component:\n",
    "\n",
    "$$ I_f = \\frac{| {U_{i, j-1} |}  U_{i, j-1}}{M^2 r_i^\\frac{4}{3}} $$\n"
   ]
  },
  {
   "cell_type": "markdown",
   "metadata": {},
   "source": [
    "## Stability Criteria:\n",
    "\n",
    "$$ \\Delta t < \\frac{\\Delta x}{| U | + c} $$"
   ]
  },
  {
   "cell_type": "markdown",
   "metadata": {},
   "source": [
    "## Calculation Procedure (Explicit):\n",
    "\n",
    "Guess starting values of U and y along the channel\n",
    "\n",
    "Determine the inflow values of U and y\n",
    "\n",
    "For each time step, do the following:\n",
    "\n",
    "For each cross section at a given time, do the following:\n",
    "1. Compute the water level, $y$ using:\n",
    "\n",
    "    $$ y_{i, j} = y_{i, j-1} - \\frac{\\Delta t}{2\\Delta x}[U_{i, j-1}(y_{i+1, j-1} - y_{i-1, j-1}) + y_{i, j-1}(U_{i+1, j-1} - U_{i, j-1})] $$\n",
    "\n",
    "2. Compute the friction slope, $I_f$, using:\n",
    "\n",
    "    $$ I_f = \\frac{| {U_{i, j-1} |}  U_{i, j-1}}{M^2 r_i^\\frac{4}{3}} $$\n",
    "\n",
    "3. Compute the velocity, $U$ using:\n",
    "\n",
    "    $$ U_{i, j} = U_{i, j-1} - U_{i, j-1}(\\frac{U_{i+1, j-1} - U_{i-1, j-1}}{2\\Delta x})\\Delta t + g(\\frac{y_{i+1, j-1} - y_{i-1, j-1}}{2\\Delta x})\\Delta t + g\\Delta t(I_b - I_f) $$\n",
    "\n"
   ]
  },
  {
   "cell_type": "code",
   "execution_count": 22,
   "metadata": {},
   "outputs": [
    {
     "name": "stdout",
     "output_type": "stream",
     "text": [
      "30.3030303030303 10.032689293881543 9.967417216935564\n"
     ]
    }
   ],
   "source": [
    "import numpy as np\n",
    "\n",
    "\n",
    "#timein # initialize time series for time\n",
    "#qinn   # initialize time series for discharge\n",
    "\n",
    "qinn = 100.\n",
    "\n",
    "#depth # create array to store depths\n",
    "#velocity # create array to store velocities\n",
    "\n",
    "timestep = 3.0\n",
    "deltax = 50.0\n",
    "slope = 0.005\n",
    "manning_n = 0.033\n",
    "manning_m = 1/manning_n\n",
    "\n",
    "# Initialization function\n",
    "u = qinn / y\n",
    "\n",
    "print(manning_m, y, u)"
   ]
  }
 ],
 "metadata": {
  "kernelspec": {
   "display_name": "Python 3",
   "language": "python",
   "name": "python3"
  },
  "language_info": {
   "codemirror_mode": {
    "name": "ipython",
    "version": 3
   },
   "file_extension": ".py",
   "mimetype": "text/x-python",
   "name": "python",
   "nbconvert_exporter": "python",
   "pygments_lexer": "ipython3",
   "version": "3.6.1"
  }
 },
 "nbformat": 4,
 "nbformat_minor": 2
}
